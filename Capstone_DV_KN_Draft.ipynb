{
 "cells": [
  {
   "cell_type": "code",
   "execution_count": 1,
   "metadata": {},
   "outputs": [],
   "source": [
    "import pandas as pd\n",
    "import numpy as np\n",
    "# import pylab as py\n",
    "import matplotlib.pyplot as plt\n",
    "from collections import Counter\n",
    "import re\n",
    "\n",
    "\n",
    "from statsmodels.tsa.arima_model import ARIMA \n",
    "from statsmodels.tsa.holtwinters import ExponentialSmoothing, SimpleExpSmoothing, Holt \n",
    "from sklearn.metrics import mean_squared_error\n",
    "import time\n",
    "%matplotlib inline "
   ]
  },
  {
   "cell_type": "code",
   "execution_count": 177,
   "metadata": {},
   "outputs": [],
   "source": [
    "df= pd.read_csv('data/coinbaseUSD_1-min_data_2014-12-01_to_2019-01-09.csv')"
   ]
  },
  {
   "cell_type": "code",
   "execution_count": 178,
   "metadata": {},
   "outputs": [
    {
     "data": {
      "text/html": [
       "<div>\n",
       "<style scoped>\n",
       "    .dataframe tbody tr th:only-of-type {\n",
       "        vertical-align: middle;\n",
       "    }\n",
       "\n",
       "    .dataframe tbody tr th {\n",
       "        vertical-align: top;\n",
       "    }\n",
       "\n",
       "    .dataframe thead th {\n",
       "        text-align: right;\n",
       "    }\n",
       "</style>\n",
       "<table border=\"1\" class=\"dataframe\">\n",
       "  <thead>\n",
       "    <tr style=\"text-align: right;\">\n",
       "      <th></th>\n",
       "      <th>Timestamp</th>\n",
       "      <th>Open</th>\n",
       "      <th>High</th>\n",
       "      <th>Low</th>\n",
       "      <th>Close</th>\n",
       "      <th>Volume_(BTC)</th>\n",
       "      <th>Volume_(Currency)</th>\n",
       "      <th>Weighted_Price</th>\n",
       "    </tr>\n",
       "  </thead>\n",
       "  <tbody>\n",
       "    <tr>\n",
       "      <th>0</th>\n",
       "      <td>1417411980</td>\n",
       "      <td>300.0</td>\n",
       "      <td>300.0</td>\n",
       "      <td>300.0</td>\n",
       "      <td>300.0</td>\n",
       "      <td>0.01</td>\n",
       "      <td>3.0</td>\n",
       "      <td>300.0</td>\n",
       "    </tr>\n",
       "    <tr>\n",
       "      <th>1</th>\n",
       "      <td>1417412040</td>\n",
       "      <td>NaN</td>\n",
       "      <td>NaN</td>\n",
       "      <td>NaN</td>\n",
       "      <td>NaN</td>\n",
       "      <td>NaN</td>\n",
       "      <td>NaN</td>\n",
       "      <td>NaN</td>\n",
       "    </tr>\n",
       "  </tbody>\n",
       "</table>\n",
       "</div>"
      ],
      "text/plain": [
       "    Timestamp   Open   High    Low  Close  Volume_(BTC)  Volume_(Currency)  \\\n",
       "0  1417411980  300.0  300.0  300.0  300.0          0.01                3.0   \n",
       "1  1417412040    NaN    NaN    NaN    NaN           NaN                NaN   \n",
       "\n",
       "   Weighted_Price  \n",
       "0           300.0  \n",
       "1             NaN  "
      ]
     },
     "execution_count": 178,
     "metadata": {},
     "output_type": "execute_result"
    }
   ],
   "source": [
    "df.head(2)"
   ]
  },
  {
   "cell_type": "code",
   "execution_count": 179,
   "metadata": {},
   "outputs": [],
   "source": [
    "df['date']= pd.to_datetime(df.Timestamp,unit='s') "
   ]
  },
  {
   "cell_type": "code",
   "execution_count": 180,
   "metadata": {},
   "outputs": [
    {
     "data": {
      "text/html": [
       "<div>\n",
       "<style scoped>\n",
       "    .dataframe tbody tr th:only-of-type {\n",
       "        vertical-align: middle;\n",
       "    }\n",
       "\n",
       "    .dataframe tbody tr th {\n",
       "        vertical-align: top;\n",
       "    }\n",
       "\n",
       "    .dataframe thead th {\n",
       "        text-align: right;\n",
       "    }\n",
       "</style>\n",
       "<table border=\"1\" class=\"dataframe\">\n",
       "  <thead>\n",
       "    <tr style=\"text-align: right;\">\n",
       "      <th></th>\n",
       "      <th>Timestamp</th>\n",
       "      <th>Open</th>\n",
       "      <th>High</th>\n",
       "      <th>Low</th>\n",
       "      <th>Close</th>\n",
       "      <th>Volume_(BTC)</th>\n",
       "      <th>Volume_(Currency)</th>\n",
       "      <th>Weighted_Price</th>\n",
       "      <th>date</th>\n",
       "    </tr>\n",
       "  </thead>\n",
       "  <tbody>\n",
       "    <tr>\n",
       "      <th>0</th>\n",
       "      <td>1417411980</td>\n",
       "      <td>300.0</td>\n",
       "      <td>300.0</td>\n",
       "      <td>300.0</td>\n",
       "      <td>300.0</td>\n",
       "      <td>0.01</td>\n",
       "      <td>3.0</td>\n",
       "      <td>300.0</td>\n",
       "      <td>2014-12-01 05:33:00</td>\n",
       "    </tr>\n",
       "    <tr>\n",
       "      <th>1</th>\n",
       "      <td>1417412040</td>\n",
       "      <td>NaN</td>\n",
       "      <td>NaN</td>\n",
       "      <td>NaN</td>\n",
       "      <td>NaN</td>\n",
       "      <td>NaN</td>\n",
       "      <td>NaN</td>\n",
       "      <td>NaN</td>\n",
       "      <td>2014-12-01 05:34:00</td>\n",
       "    </tr>\n",
       "    <tr>\n",
       "      <th>2</th>\n",
       "      <td>1417412100</td>\n",
       "      <td>NaN</td>\n",
       "      <td>NaN</td>\n",
       "      <td>NaN</td>\n",
       "      <td>NaN</td>\n",
       "      <td>NaN</td>\n",
       "      <td>NaN</td>\n",
       "      <td>NaN</td>\n",
       "      <td>2014-12-01 05:35:00</td>\n",
       "    </tr>\n",
       "    <tr>\n",
       "      <th>3</th>\n",
       "      <td>1417412160</td>\n",
       "      <td>NaN</td>\n",
       "      <td>NaN</td>\n",
       "      <td>NaN</td>\n",
       "      <td>NaN</td>\n",
       "      <td>NaN</td>\n",
       "      <td>NaN</td>\n",
       "      <td>NaN</td>\n",
       "      <td>2014-12-01 05:36:00</td>\n",
       "    </tr>\n",
       "    <tr>\n",
       "      <th>4</th>\n",
       "      <td>1417412220</td>\n",
       "      <td>NaN</td>\n",
       "      <td>NaN</td>\n",
       "      <td>NaN</td>\n",
       "      <td>NaN</td>\n",
       "      <td>NaN</td>\n",
       "      <td>NaN</td>\n",
       "      <td>NaN</td>\n",
       "      <td>2014-12-01 05:37:00</td>\n",
       "    </tr>\n",
       "    <tr>\n",
       "      <th>5</th>\n",
       "      <td>1417412280</td>\n",
       "      <td>NaN</td>\n",
       "      <td>NaN</td>\n",
       "      <td>NaN</td>\n",
       "      <td>NaN</td>\n",
       "      <td>NaN</td>\n",
       "      <td>NaN</td>\n",
       "      <td>NaN</td>\n",
       "      <td>2014-12-01 05:38:00</td>\n",
       "    </tr>\n",
       "    <tr>\n",
       "      <th>6</th>\n",
       "      <td>1417412340</td>\n",
       "      <td>NaN</td>\n",
       "      <td>NaN</td>\n",
       "      <td>NaN</td>\n",
       "      <td>NaN</td>\n",
       "      <td>NaN</td>\n",
       "      <td>NaN</td>\n",
       "      <td>NaN</td>\n",
       "      <td>2014-12-01 05:39:00</td>\n",
       "    </tr>\n",
       "    <tr>\n",
       "      <th>7</th>\n",
       "      <td>1417412400</td>\n",
       "      <td>300.0</td>\n",
       "      <td>300.0</td>\n",
       "      <td>300.0</td>\n",
       "      <td>300.0</td>\n",
       "      <td>0.01</td>\n",
       "      <td>3.0</td>\n",
       "      <td>300.0</td>\n",
       "      <td>2014-12-01 05:40:00</td>\n",
       "    </tr>\n",
       "    <tr>\n",
       "      <th>8</th>\n",
       "      <td>1417412460</td>\n",
       "      <td>NaN</td>\n",
       "      <td>NaN</td>\n",
       "      <td>NaN</td>\n",
       "      <td>NaN</td>\n",
       "      <td>NaN</td>\n",
       "      <td>NaN</td>\n",
       "      <td>NaN</td>\n",
       "      <td>2014-12-01 05:41:00</td>\n",
       "    </tr>\n",
       "    <tr>\n",
       "      <th>9</th>\n",
       "      <td>1417412520</td>\n",
       "      <td>NaN</td>\n",
       "      <td>NaN</td>\n",
       "      <td>NaN</td>\n",
       "      <td>NaN</td>\n",
       "      <td>NaN</td>\n",
       "      <td>NaN</td>\n",
       "      <td>NaN</td>\n",
       "      <td>2014-12-01 05:42:00</td>\n",
       "    </tr>\n",
       "  </tbody>\n",
       "</table>\n",
       "</div>"
      ],
      "text/plain": [
       "    Timestamp   Open   High    Low  Close  Volume_(BTC)  Volume_(Currency)  \\\n",
       "0  1417411980  300.0  300.0  300.0  300.0          0.01                3.0   \n",
       "1  1417412040    NaN    NaN    NaN    NaN           NaN                NaN   \n",
       "2  1417412100    NaN    NaN    NaN    NaN           NaN                NaN   \n",
       "3  1417412160    NaN    NaN    NaN    NaN           NaN                NaN   \n",
       "4  1417412220    NaN    NaN    NaN    NaN           NaN                NaN   \n",
       "5  1417412280    NaN    NaN    NaN    NaN           NaN                NaN   \n",
       "6  1417412340    NaN    NaN    NaN    NaN           NaN                NaN   \n",
       "7  1417412400  300.0  300.0  300.0  300.0          0.01                3.0   \n",
       "8  1417412460    NaN    NaN    NaN    NaN           NaN                NaN   \n",
       "9  1417412520    NaN    NaN    NaN    NaN           NaN                NaN   \n",
       "\n",
       "   Weighted_Price                date  \n",
       "0           300.0 2014-12-01 05:33:00  \n",
       "1             NaN 2014-12-01 05:34:00  \n",
       "2             NaN 2014-12-01 05:35:00  \n",
       "3             NaN 2014-12-01 05:36:00  \n",
       "4             NaN 2014-12-01 05:37:00  \n",
       "5             NaN 2014-12-01 05:38:00  \n",
       "6             NaN 2014-12-01 05:39:00  \n",
       "7           300.0 2014-12-01 05:40:00  \n",
       "8             NaN 2014-12-01 05:41:00  \n",
       "9             NaN 2014-12-01 05:42:00  "
      ]
     },
     "execution_count": 180,
     "metadata": {},
     "output_type": "execute_result"
    }
   ],
   "source": [
    "df.head(10) #still by minute? "
   ]
  },
  {
   "cell_type": "code",
   "execution_count": 181,
   "metadata": {},
   "outputs": [],
   "source": [
    "df['date']=df.date.dt.date"
   ]
  },
  {
   "cell_type": "code",
   "execution_count": 182,
   "metadata": {},
   "outputs": [
    {
     "data": {
      "text/html": [
       "<div>\n",
       "<style scoped>\n",
       "    .dataframe tbody tr th:only-of-type {\n",
       "        vertical-align: middle;\n",
       "    }\n",
       "\n",
       "    .dataframe tbody tr th {\n",
       "        vertical-align: top;\n",
       "    }\n",
       "\n",
       "    .dataframe thead th {\n",
       "        text-align: right;\n",
       "    }\n",
       "</style>\n",
       "<table border=\"1\" class=\"dataframe\">\n",
       "  <thead>\n",
       "    <tr style=\"text-align: right;\">\n",
       "      <th></th>\n",
       "      <th>Timestamp</th>\n",
       "      <th>Open</th>\n",
       "      <th>High</th>\n",
       "      <th>Low</th>\n",
       "      <th>Close</th>\n",
       "      <th>Volume_(BTC)</th>\n",
       "      <th>Volume_(Currency)</th>\n",
       "      <th>Weighted_Price</th>\n",
       "      <th>date</th>\n",
       "    </tr>\n",
       "  </thead>\n",
       "  <tbody>\n",
       "    <tr>\n",
       "      <th>0</th>\n",
       "      <td>1417411980</td>\n",
       "      <td>300.0</td>\n",
       "      <td>300.0</td>\n",
       "      <td>300.0</td>\n",
       "      <td>300.0</td>\n",
       "      <td>0.01</td>\n",
       "      <td>3.0</td>\n",
       "      <td>300.0</td>\n",
       "      <td>2014-12-01</td>\n",
       "    </tr>\n",
       "    <tr>\n",
       "      <th>1</th>\n",
       "      <td>1417412040</td>\n",
       "      <td>NaN</td>\n",
       "      <td>NaN</td>\n",
       "      <td>NaN</td>\n",
       "      <td>NaN</td>\n",
       "      <td>NaN</td>\n",
       "      <td>NaN</td>\n",
       "      <td>NaN</td>\n",
       "      <td>2014-12-01</td>\n",
       "    </tr>\n",
       "  </tbody>\n",
       "</table>\n",
       "</div>"
      ],
      "text/plain": [
       "    Timestamp   Open   High    Low  Close  Volume_(BTC)  Volume_(Currency)  \\\n",
       "0  1417411980  300.0  300.0  300.0  300.0          0.01                3.0   \n",
       "1  1417412040    NaN    NaN    NaN    NaN           NaN                NaN   \n",
       "\n",
       "   Weighted_Price        date  \n",
       "0           300.0  2014-12-01  \n",
       "1             NaN  2014-12-01  "
      ]
     },
     "execution_count": 182,
     "metadata": {},
     "output_type": "execute_result"
    }
   ],
   "source": [
    "df.head(2)"
   ]
  },
  {
   "cell_type": "code",
   "execution_count": 183,
   "metadata": {},
   "outputs": [],
   "source": [
    "df.dropna(inplace=True)"
   ]
  },
  {
   "cell_type": "code",
   "execution_count": 184,
   "metadata": {},
   "outputs": [],
   "source": [
    "df.drop('Timestamp', 1, inplace=True)"
   ]
  },
  {
   "cell_type": "code",
   "execution_count": 185,
   "metadata": {},
   "outputs": [],
   "source": [
    "df.dropna(inplace=True)"
   ]
  },
  {
   "cell_type": "code",
   "execution_count": 186,
   "metadata": {},
   "outputs": [],
   "source": [
    "df = df.groupby('date').Close.mean().reset_index() #get daily data "
   ]
  },
  {
   "cell_type": "code",
   "execution_count": 187,
   "metadata": {},
   "outputs": [
    {
     "data": {
      "text/html": [
       "<div>\n",
       "<style scoped>\n",
       "    .dataframe tbody tr th:only-of-type {\n",
       "        vertical-align: middle;\n",
       "    }\n",
       "\n",
       "    .dataframe tbody tr th {\n",
       "        vertical-align: top;\n",
       "    }\n",
       "\n",
       "    .dataframe thead th {\n",
       "        text-align: right;\n",
       "    }\n",
       "</style>\n",
       "<table border=\"1\" class=\"dataframe\">\n",
       "  <thead>\n",
       "    <tr style=\"text-align: right;\">\n",
       "      <th></th>\n",
       "      <th>date</th>\n",
       "      <th>Close</th>\n",
       "    </tr>\n",
       "  </thead>\n",
       "  <tbody>\n",
       "    <tr>\n",
       "      <th>0</th>\n",
       "      <td>2014-12-01</td>\n",
       "      <td>335.000000</td>\n",
       "    </tr>\n",
       "    <tr>\n",
       "      <th>1</th>\n",
       "      <td>2014-12-02</td>\n",
       "      <td>377.857143</td>\n",
       "    </tr>\n",
       "  </tbody>\n",
       "</table>\n",
       "</div>"
      ],
      "text/plain": [
       "         date       Close\n",
       "0  2014-12-01  335.000000\n",
       "1  2014-12-02  377.857143"
      ]
     },
     "execution_count": 187,
     "metadata": {},
     "output_type": "execute_result"
    }
   ],
   "source": [
    "df.head(2)"
   ]
  },
  {
   "cell_type": "code",
   "execution_count": 188,
   "metadata": {},
   "outputs": [],
   "source": [
    "df['Close_log']=np.log(df.Close)"
   ]
  },
  {
   "cell_type": "code",
   "execution_count": 109,
   "metadata": {},
   "outputs": [
    {
     "data": {
      "text/plain": [
       "<matplotlib.text.Text at 0x1c15f1fb50>"
      ]
     },
     "execution_count": 109,
     "metadata": {},
     "output_type": "execute_result"
    },
    {
     "data": {
      "image/png": "[encoded data removed]",
      "text/plain": [
       "<matplotlib.figure.Figure at 0x1c15edc7d0>"
      ]
     },
     "metadata": {
      "needs_background": "light"
     },
     "output_type": "display_data"
    }
   ],
   "source": [
    "ts= df.Close\n",
    "ts.index=df.date \n",
    "plt.plot(ts)\n",
    "plt.title('Daily Bitcoin Price')"
   ]
  },
  {
   "cell_type": "code",
   "execution_count": 110,
   "metadata": {},
   "outputs": [
    {
     "data": {
      "text/plain": [
       "<matplotlib.text.Text at 0x1c2cd923d0>"
      ]
     },
     "execution_count": 110,
     "metadata": {},
     "output_type": "execute_result"
    },
    {
     "data": {
      "image/png": "[encoded data removed]",
      "text/plain": [
       "<matplotlib.figure.Figure at 0x1c2cd3da10>"
      ]
     },
     "metadata": {
      "needs_background": "light"
     },
     "output_type": "display_data"
    }
   ],
   "source": [
    "ts_log = np.log(df.Close)\n",
    "ts_log.index=df.date\n",
    "ts_log= ts_log[ts_log> 0]\n",
    "plt.plot(ts_log)\n",
    "plt.title('Daily Bitcoin Price-Log Transformed')"
   ]
  },
  {
   "cell_type": "code",
   "execution_count": 112,
   "metadata": {},
   "outputs": [
    {
     "data": {
      "image/png": "[encoded data removed]",
      "text/plain": [
       "<matplotlib.figure.Figure at 0x1c2cf6a110>"
      ]
     },
     "metadata": {
      "needs_background": "light"
     },
     "output_type": "display_data"
    }
   ],
   "source": [
    "ts_log_diff = ts_log - ts_log.shift()\n",
    "plt.plot(ts_log_diff)\n",
    "plt.title('Daily Bitcoin Price-Log Transformed - Lag 1')"
   ]
  },
  {
   "cell_type": "code",
   "execution_count": 14,
   "metadata": {},
   "outputs": [],
   "source": [
    "df.dropna(inplace=True)"
   ]
  },
  {
   "cell_type": "code",
   "execution_count": 15,
   "metadata": {},
   "outputs": [],
   "source": [
    "df= df[~df.isin(['NaN']).any(axis=1)]"
   ]
  },
  {
   "cell_type": "markdown",
   "metadata": {},
   "source": [
    "### Exp Smoothing"
   ]
  },
  {
   "cell_type": "code",
   "execution_count": 161,
   "metadata": {},
   "outputs": [
    {
     "data": {
      "image/png": "[encoded data removed]",
      "text/plain": [
       "<matplotlib.figure.Figure at 0x1c12e4e090>"
      ]
     },
     "metadata": {
      "needs_background": "light"
     },
     "output_type": "display_data"
    },
    {
     "data": {
      "image/png": "[encoded data removed]",
      "text/plain": [
       "<matplotlib.figure.Figure at 0x1c2da5bb50>"
      ]
     },
     "metadata": {
      "needs_background": "light"
     },
     "output_type": "display_data"
    }
   ],
   "source": [
    "#exp smoothing\n",
    "df2 = df[['date','Close']].set_index('date')\n",
    "train = df2.iloc[:-300, :]\n",
    "test = df2.iloc[-300:, :]\n",
    "\n",
    "train.index = pd.to_datetime(train.index)\n",
    "test.index = pd.to_datetime(test.index)\n",
    "\n",
    "pred = test.copy()\n",
    "\n",
    "model = SimpleExpSmoothing(np.asarray(train['Close']))\n",
    "model._index = pd.to_datetime(train.index)\n",
    "\n",
    "fit1 = model.fit()\n",
    "pred1 = fit1.forecast(299)\n",
    "fit2 = model.fit(smoothing_level=.2)\n",
    "pred2 = fit2.forecast(299)\n",
    "fit3 = model.fit(smoothing_level=0.7)\n",
    "pred3 = fit3.forecast(299)\n",
    "\n",
    "\n",
    "fig, ax = plt.subplots(figsize=(12, 6))\n",
    "ax.plot(train.index, train.values)\n",
    "ax.plot(test.index, test.values, color=\"gray\")\n",
    "for p, f, c in zip((pred1, pred2, pred3),(fit1, fit2, fit3),('#ff7823','#3c763d','c')):\n",
    "    ax.plot(train.index, f.fittedvalues, color=c)\n",
    "    ax.plot(test.index, p, label=\"alpha=\"+str(f.params['smoothing_level'])[:3], color=c)\n",
    "plt.title(\"Simple Exponential Smoothing\")    \n",
    "plt.legend();\n",
    "    \n",
    "model = Holt(np.asarray(train['Close']))\n",
    "model._index = pd.to_datetime(train.index)\n",
    "\n",
    "fit1 = model.fit(smoothing_level=.3, smoothing_slope=.05)\n",
    "pred1 = fit1.forecast(299)\n",
    "fit2 = model.fit(optimized=True)\n",
    "pred2 = fit2.forecast(299)\n",
    "fit3 = model.fit(smoothing_level=.95, smoothing_slope=.015)\n",
    "pred3 = fit3.forecast(299)\n",
    "\n",
    "fig, ax = plt.subplots(figsize=(12, 6))\n",
    "ax.plot(train.index, train.values)\n",
    "ax.plot(test.index, test.values, color=\"gray\")\n",
    "for p, f, c in zip((pred1, pred2, pred3),(fit1, fit2, fit3),('#ff7823','#3c763d','c')):\n",
    "    ax.plot(train.index, f.fittedvalues, color=c)\n",
    "    ax.plot(test.index, p, label=\"alpha=\"+str(f.params['smoothing_level'])[:4]+\", beta=\"+str(f.params['smoothing_slope'])[:4], color=c)\n",
    "plt.title(\"Holt's Exponential Smoothing\")\n",
    "plt.legend();"
   ]
  },
  {
   "cell_type": "markdown",
   "metadata": {},
   "source": [
    "### Holt's exp smoothing with alpha 0.95 and beta 0.01 capture some trend...."
   ]
  },
  {
   "cell_type": "code",
   "execution_count": 18,
   "metadata": {},
   "outputs": [],
   "source": [
    "df['Close_log']=np.log(df.Close)\n",
    "df2 = df[['date','Close_log']].set_index('date') "
   ]
  },
  {
   "cell_type": "code",
   "execution_count": 173,
   "metadata": {},
   "outputs": [
    {
     "data": {
      "text/html": [
       "<div>\n",
       "<style scoped>\n",
       "    .dataframe tbody tr th:only-of-type {\n",
       "        vertical-align: middle;\n",
       "    }\n",
       "\n",
       "    .dataframe tbody tr th {\n",
       "        vertical-align: top;\n",
       "    }\n",
       "\n",
       "    .dataframe thead th {\n",
       "        text-align: right;\n",
       "    }\n",
       "</style>\n",
       "<table border=\"1\" class=\"dataframe\">\n",
       "  <thead>\n",
       "    <tr style=\"text-align: right;\">\n",
       "      <th></th>\n",
       "      <th>Close_log</th>\n",
       "    </tr>\n",
       "    <tr>\n",
       "      <th>date</th>\n",
       "      <th></th>\n",
       "    </tr>\n",
       "  </thead>\n",
       "  <tbody>\n",
       "    <tr>\n",
       "      <th>2014-12-01</th>\n",
       "      <td>5.814131</td>\n",
       "    </tr>\n",
       "    <tr>\n",
       "      <th>2014-12-02</th>\n",
       "      <td>5.934516</td>\n",
       "    </tr>\n",
       "  </tbody>\n",
       "</table>\n",
       "</div>"
      ],
      "text/plain": [
       "            Close_log\n",
       "date                 \n",
       "2014-12-01   5.814131\n",
       "2014-12-02   5.934516"
      ]
     },
     "execution_count": 173,
     "metadata": {},
     "output_type": "execute_result"
    }
   ],
   "source": [
    "df2.head(2)"
   ]
  },
  {
   "cell_type": "code",
   "execution_count": 177,
   "metadata": {},
   "outputs": [
    {
     "data": {
      "image/png": "[encoded data removed]",
      "text/plain": [
       "<matplotlib.figure.Figure at 0x1c2cfad250>"
      ]
     },
     "metadata": {
      "needs_background": "light"
     },
     "output_type": "display_data"
    },
    {
     "data": {
      "image/png": "[encoded data removed]",
      "text/plain": [
       "<matplotlib.figure.Figure at 0x1c2da7c110>"
      ]
     },
     "metadata": {
      "needs_background": "light"
     },
     "output_type": "display_data"
    }
   ],
   "source": [
    "#exp smoothing in log scale \n",
    "\n",
    "\n",
    "df2 = df[['date','Close_log']].set_index('date')\n",
    "train = df2.iloc[:-300, :]\n",
    "test = df2.iloc[-300:, :]\n",
    "\n",
    "train.index = pd.to_datetime(train.index)\n",
    "test.index = pd.to_datetime(test.index)\n",
    "\n",
    "pred = test.copy()\n",
    "\n",
    "model = SimpleExpSmoothing(np.asarray(train['Close_log']))\n",
    "model._index = pd.to_datetime(train.index)\n",
    "\n",
    "fit1 = model.fit()\n",
    "pred1 = fit1.forecast(299)\n",
    "fit2 = model.fit(smoothing_level=.2)\n",
    "pred2 = fit2.forecast(299)\n",
    "fit3 = model.fit(smoothing_level=1.7)\n",
    "pred3 = fit3.forecast(299)\n",
    "\n",
    "\n",
    "fig, ax = plt.subplots(figsize=(12, 6))\n",
    "ax.plot(train.index, train.values)\n",
    "ax.plot(test.index, test.values, color=\"gray\")\n",
    "for p, f, c in zip((pred1, pred2, pred3),(fit1, fit2, fit3),('#ff7823','#3c763d','c')):\n",
    "    ax.plot(train.index, f.fittedvalues, color=c)\n",
    "    ax.plot(test.index, p, label=\"alpha=\"+str(f.params['smoothing_level'])[:3], color=c)\n",
    "plt.title(\"Simple Exponential Smoothing-Log Scale\")    \n",
    "plt.legend();\n",
    "    \n",
    "model = Holt(np.asarray(train['Close_log']))\n",
    "model._index = pd.to_datetime(train.index)\n",
    "\n",
    "fit1 = model.fit(smoothing_level=.3, smoothing_slope=.05)\n",
    "pred1 = fit1.forecast(299)\n",
    "fit2 = model.fit(optimized=True)\n",
    "pred2 = fit2.forecast(299)\n",
    "fit3 = model.fit(smoothing_level=.8, smoothing_slope=.02)\n",
    "pred3 = fit3.forecast(299)\n",
    "\n",
    "fig, ax = plt.subplots(figsize=(12, 6))\n",
    "ax.plot(train.index, train.values)\n",
    "ax.plot(test.index, test.values, color=\"gray\")\n",
    "for p, f, c in zip((pred1, pred2, pred3),(fit1, fit2, fit3),('#ff7823','#3c763d','c')):\n",
    "    ax.plot(train.index, f.fittedvalues, color=c)\n",
    "    ax.plot(test.index, p, label=\"alpha=\"+str(f.params['smoothing_level'])[:4]+\", beta=\"+str(f.params['smoothing_slope'])[:4], color=c)\n",
    "plt.title(\"Holt's Exponential Smoothing-Log Scale\")\n",
    "plt.legend();"
   ]
  },
  {
   "cell_type": "markdown",
   "metadata": {},
   "source": [
    "### ARIMA: \n",
    "### Use this as reference as the y_pred is following y_test in this example: \n",
    "##### https://towardsdatascience.com/bitcoin-price-prediction-using-time-series-forecasting-9f468f7174d3 "
   ]
  },
  {
   "cell_type": "markdown",
   "metadata": {},
   "source": [
    "### LSTM "
   ]
  },
  {
   "cell_type": "code",
   "execution_count": 16,
   "metadata": {},
   "outputs": [
    {
     "name": "stderr",
     "output_type": "stream",
     "text": [
      "/Users/koyuki.nakamori/anaconda/lib/python2.7/site-packages/h5py/__init__.py:34: FutureWarning: Conversion of the second argument of issubdtype from `float` to `np.floating` is deprecated. In future, it will be treated as `np.float64 == np.dtype(float).type`.\n",
      "  from ._conv import register_converters as _register_converters\n",
      "Using TensorFlow backend.\n"
     ]
    }
   ],
   "source": [
    "from keras.models import Sequential, Model\n",
    "from keras.layers.embeddings import Embedding\n",
    "from keras.layers import Input, Activation, Dense, Permute, Dropout, TimeDistributed\n",
    "from keras.layers import add, dot, concatenate\n",
    "from keras.layers import LSTM\n",
    "from keras.utils.data_utils import get_file\n",
    "from keras.preprocessing.sequence import pad_sequences\n",
    "from keras import optimizers\n",
    "\n",
    "\n",
    "from sklearn.metrics import mean_squared_error"
   ]
  },
  {
   "cell_type": "code",
   "execution_count": 237,
   "metadata": {},
   "outputs": [],
   "source": [
    "for i in range(1, 31): \n",
    "    df2['lag_{}'.format(i)]=df2.Close_log.shift(i)"
   ]
  },
  {
   "cell_type": "code",
   "execution_count": 238,
   "metadata": {},
   "outputs": [],
   "source": [
    "df2.fillna(0, inplace=True)"
   ]
  },
  {
   "cell_type": "code",
   "execution_count": 239,
   "metadata": {},
   "outputs": [
    {
     "data": {
      "text/html": [
       "<div>\n",
       "<style scoped>\n",
       "    .dataframe tbody tr th:only-of-type {\n",
       "        vertical-align: middle;\n",
       "    }\n",
       "\n",
       "    .dataframe tbody tr th {\n",
       "        vertical-align: top;\n",
       "    }\n",
       "\n",
       "    .dataframe thead th {\n",
       "        text-align: right;\n",
       "    }\n",
       "</style>\n",
       "<table border=\"1\" class=\"dataframe\">\n",
       "  <thead>\n",
       "    <tr style=\"text-align: right;\">\n",
       "      <th></th>\n",
       "      <th>Close_log</th>\n",
       "      <th>lag_1</th>\n",
       "      <th>lag_2</th>\n",
       "      <th>lag_3</th>\n",
       "      <th>lag_4</th>\n",
       "      <th>lag_5</th>\n",
       "      <th>lag_6</th>\n",
       "      <th>lag_7</th>\n",
       "      <th>lag_8</th>\n",
       "      <th>lag_9</th>\n",
       "      <th>...</th>\n",
       "      <th>lag_21</th>\n",
       "      <th>lag_22</th>\n",
       "      <th>lag_23</th>\n",
       "      <th>lag_24</th>\n",
       "      <th>lag_25</th>\n",
       "      <th>lag_26</th>\n",
       "      <th>lag_27</th>\n",
       "      <th>lag_28</th>\n",
       "      <th>lag_29</th>\n",
       "      <th>lag_30</th>\n",
       "    </tr>\n",
       "  </thead>\n",
       "  <tbody>\n",
       "    <tr>\n",
       "      <th>1455</th>\n",
       "      <td>8.262088</td>\n",
       "      <td>8.216419</td>\n",
       "      <td>8.220842</td>\n",
       "      <td>8.236200</td>\n",
       "      <td>8.235826</td>\n",
       "      <td>8.325119</td>\n",
       "      <td>8.288715</td>\n",
       "      <td>8.256461</td>\n",
       "      <td>8.287423</td>\n",
       "      <td>8.274981</td>\n",
       "      <td>...</td>\n",
       "      <td>8.126959</td>\n",
       "      <td>8.119277</td>\n",
       "      <td>8.214746</td>\n",
       "      <td>8.243607</td>\n",
       "      <td>8.269996</td>\n",
       "      <td>8.275271</td>\n",
       "      <td>8.324122</td>\n",
       "      <td>8.313726</td>\n",
       "      <td>8.312849</td>\n",
       "      <td>8.348763</td>\n",
       "    </tr>\n",
       "    <tr>\n",
       "      <th>1456</th>\n",
       "      <td>8.239852</td>\n",
       "      <td>8.262088</td>\n",
       "      <td>8.216419</td>\n",
       "      <td>8.220842</td>\n",
       "      <td>8.236200</td>\n",
       "      <td>8.235826</td>\n",
       "      <td>8.325119</td>\n",
       "      <td>8.288715</td>\n",
       "      <td>8.256461</td>\n",
       "      <td>8.287423</td>\n",
       "      <td>...</td>\n",
       "      <td>8.151535</td>\n",
       "      <td>8.126959</td>\n",
       "      <td>8.119277</td>\n",
       "      <td>8.214746</td>\n",
       "      <td>8.243607</td>\n",
       "      <td>8.269996</td>\n",
       "      <td>8.275271</td>\n",
       "      <td>8.324122</td>\n",
       "      <td>8.313726</td>\n",
       "      <td>8.312849</td>\n",
       "    </tr>\n",
       "    <tr>\n",
       "      <th>1457</th>\n",
       "      <td>8.231270</td>\n",
       "      <td>8.239852</td>\n",
       "      <td>8.262088</td>\n",
       "      <td>8.216419</td>\n",
       "      <td>8.220842</td>\n",
       "      <td>8.236200</td>\n",
       "      <td>8.235826</td>\n",
       "      <td>8.325119</td>\n",
       "      <td>8.288715</td>\n",
       "      <td>8.256461</td>\n",
       "      <td>...</td>\n",
       "      <td>8.151839</td>\n",
       "      <td>8.151535</td>\n",
       "      <td>8.126959</td>\n",
       "      <td>8.119277</td>\n",
       "      <td>8.214746</td>\n",
       "      <td>8.243607</td>\n",
       "      <td>8.269996</td>\n",
       "      <td>8.275271</td>\n",
       "      <td>8.324122</td>\n",
       "      <td>8.313726</td>\n",
       "    </tr>\n",
       "    <tr>\n",
       "      <th>1458</th>\n",
       "      <td>8.216269</td>\n",
       "      <td>8.231270</td>\n",
       "      <td>8.239852</td>\n",
       "      <td>8.262088</td>\n",
       "      <td>8.216419</td>\n",
       "      <td>8.220842</td>\n",
       "      <td>8.236200</td>\n",
       "      <td>8.235826</td>\n",
       "      <td>8.325119</td>\n",
       "      <td>8.288715</td>\n",
       "      <td>...</td>\n",
       "      <td>8.121323</td>\n",
       "      <td>8.151839</td>\n",
       "      <td>8.151535</td>\n",
       "      <td>8.126959</td>\n",
       "      <td>8.119277</td>\n",
       "      <td>8.214746</td>\n",
       "      <td>8.243607</td>\n",
       "      <td>8.269996</td>\n",
       "      <td>8.275271</td>\n",
       "      <td>8.324122</td>\n",
       "    </tr>\n",
       "    <tr>\n",
       "      <th>1459</th>\n",
       "      <td>8.248846</td>\n",
       "      <td>8.216269</td>\n",
       "      <td>8.231270</td>\n",
       "      <td>8.239852</td>\n",
       "      <td>8.262088</td>\n",
       "      <td>8.216419</td>\n",
       "      <td>8.220842</td>\n",
       "      <td>8.236200</td>\n",
       "      <td>8.235826</td>\n",
       "      <td>8.325119</td>\n",
       "      <td>...</td>\n",
       "      <td>8.130489</td>\n",
       "      <td>8.121323</td>\n",
       "      <td>8.151839</td>\n",
       "      <td>8.151535</td>\n",
       "      <td>8.126959</td>\n",
       "      <td>8.119277</td>\n",
       "      <td>8.214746</td>\n",
       "      <td>8.243607</td>\n",
       "      <td>8.269996</td>\n",
       "      <td>8.275271</td>\n",
       "    </tr>\n",
       "    <tr>\n",
       "      <th>1460</th>\n",
       "      <td>8.250600</td>\n",
       "      <td>8.248846</td>\n",
       "      <td>8.216269</td>\n",
       "      <td>8.231270</td>\n",
       "      <td>8.239852</td>\n",
       "      <td>8.262088</td>\n",
       "      <td>8.216419</td>\n",
       "      <td>8.220842</td>\n",
       "      <td>8.236200</td>\n",
       "      <td>8.235826</td>\n",
       "      <td>...</td>\n",
       "      <td>8.119857</td>\n",
       "      <td>8.130489</td>\n",
       "      <td>8.121323</td>\n",
       "      <td>8.151839</td>\n",
       "      <td>8.151535</td>\n",
       "      <td>8.126959</td>\n",
       "      <td>8.119277</td>\n",
       "      <td>8.214746</td>\n",
       "      <td>8.243607</td>\n",
       "      <td>8.269996</td>\n",
       "    </tr>\n",
       "    <tr>\n",
       "      <th>1461</th>\n",
       "      <td>8.238908</td>\n",
       "      <td>8.250600</td>\n",
       "      <td>8.248846</td>\n",
       "      <td>8.216269</td>\n",
       "      <td>8.231270</td>\n",
       "      <td>8.239852</td>\n",
       "      <td>8.262088</td>\n",
       "      <td>8.216419</td>\n",
       "      <td>8.220842</td>\n",
       "      <td>8.236200</td>\n",
       "      <td>...</td>\n",
       "      <td>8.081523</td>\n",
       "      <td>8.119857</td>\n",
       "      <td>8.130489</td>\n",
       "      <td>8.121323</td>\n",
       "      <td>8.151839</td>\n",
       "      <td>8.151535</td>\n",
       "      <td>8.126959</td>\n",
       "      <td>8.119277</td>\n",
       "      <td>8.214746</td>\n",
       "      <td>8.243607</td>\n",
       "    </tr>\n",
       "    <tr>\n",
       "      <th>1462</th>\n",
       "      <td>8.251823</td>\n",
       "      <td>8.238908</td>\n",
       "      <td>8.250600</td>\n",
       "      <td>8.248846</td>\n",
       "      <td>8.216269</td>\n",
       "      <td>8.231270</td>\n",
       "      <td>8.239852</td>\n",
       "      <td>8.262088</td>\n",
       "      <td>8.216419</td>\n",
       "      <td>8.220842</td>\n",
       "      <td>...</td>\n",
       "      <td>8.064587</td>\n",
       "      <td>8.081523</td>\n",
       "      <td>8.119857</td>\n",
       "      <td>8.130489</td>\n",
       "      <td>8.121323</td>\n",
       "      <td>8.151839</td>\n",
       "      <td>8.151535</td>\n",
       "      <td>8.126959</td>\n",
       "      <td>8.119277</td>\n",
       "      <td>8.214746</td>\n",
       "    </tr>\n",
       "    <tr>\n",
       "      <th>1463</th>\n",
       "      <td>8.262159</td>\n",
       "      <td>8.251823</td>\n",
       "      <td>8.238908</td>\n",
       "      <td>8.250600</td>\n",
       "      <td>8.248846</td>\n",
       "      <td>8.216269</td>\n",
       "      <td>8.231270</td>\n",
       "      <td>8.239852</td>\n",
       "      <td>8.262088</td>\n",
       "      <td>8.216419</td>\n",
       "      <td>...</td>\n",
       "      <td>8.076365</td>\n",
       "      <td>8.064587</td>\n",
       "      <td>8.081523</td>\n",
       "      <td>8.119857</td>\n",
       "      <td>8.130489</td>\n",
       "      <td>8.121323</td>\n",
       "      <td>8.151839</td>\n",
       "      <td>8.151535</td>\n",
       "      <td>8.126959</td>\n",
       "      <td>8.119277</td>\n",
       "    </tr>\n",
       "    <tr>\n",
       "      <th>1464</th>\n",
       "      <td>8.300303</td>\n",
       "      <td>8.262159</td>\n",
       "      <td>8.251823</td>\n",
       "      <td>8.238908</td>\n",
       "      <td>8.250600</td>\n",
       "      <td>8.248846</td>\n",
       "      <td>8.216269</td>\n",
       "      <td>8.231270</td>\n",
       "      <td>8.239852</td>\n",
       "      <td>8.262088</td>\n",
       "      <td>...</td>\n",
       "      <td>8.111617</td>\n",
       "      <td>8.076365</td>\n",
       "      <td>8.064587</td>\n",
       "      <td>8.081523</td>\n",
       "      <td>8.119857</td>\n",
       "      <td>8.130489</td>\n",
       "      <td>8.121323</td>\n",
       "      <td>8.151839</td>\n",
       "      <td>8.151535</td>\n",
       "      <td>8.126959</td>\n",
       "    </tr>\n",
       "  </tbody>\n",
       "</table>\n",
       "<p>10 rows × 31 columns</p>\n",
       "</div>"
      ],
      "text/plain": [
       "      Close_log     lag_1     lag_2     lag_3     lag_4     lag_5     lag_6  \\\n",
       "1455   8.262088  8.216419  8.220842  8.236200  8.235826  8.325119  8.288715   \n",
       "1456   8.239852  8.262088  8.216419  8.220842  8.236200  8.235826  8.325119   \n",
       "1457   8.231270  8.239852  8.262088  8.216419  8.220842  8.236200  8.235826   \n",
       "1458   8.216269  8.231270  8.239852  8.262088  8.216419  8.220842  8.236200   \n",
       "1459   8.248846  8.216269  8.231270  8.239852  8.262088  8.216419  8.220842   \n",
       "1460   8.250600  8.248846  8.216269  8.231270  8.239852  8.262088  8.216419   \n",
       "1461   8.238908  8.250600  8.248846  8.216269  8.231270  8.239852  8.262088   \n",
       "1462   8.251823  8.238908  8.250600  8.248846  8.216269  8.231270  8.239852   \n",
       "1463   8.262159  8.251823  8.238908  8.250600  8.248846  8.216269  8.231270   \n",
       "1464   8.300303  8.262159  8.251823  8.238908  8.250600  8.248846  8.216269   \n",
       "\n",
       "         lag_7     lag_8     lag_9    ...       lag_21    lag_22    lag_23  \\\n",
       "1455  8.256461  8.287423  8.274981    ...     8.126959  8.119277  8.214746   \n",
       "1456  8.288715  8.256461  8.287423    ...     8.151535  8.126959  8.119277   \n",
       "1457  8.325119  8.288715  8.256461    ...     8.151839  8.151535  8.126959   \n",
       "1458  8.235826  8.325119  8.288715    ...     8.121323  8.151839  8.151535   \n",
       "1459  8.236200  8.235826  8.325119    ...     8.130489  8.121323  8.151839   \n",
       "1460  8.220842  8.236200  8.235826    ...     8.119857  8.130489  8.121323   \n",
       "1461  8.216419  8.220842  8.236200    ...     8.081523  8.119857  8.130489   \n",
       "1462  8.262088  8.216419  8.220842    ...     8.064587  8.081523  8.119857   \n",
       "1463  8.239852  8.262088  8.216419    ...     8.076365  8.064587  8.081523   \n",
       "1464  8.231270  8.239852  8.262088    ...     8.111617  8.076365  8.064587   \n",
       "\n",
       "        lag_24    lag_25    lag_26    lag_27    lag_28    lag_29    lag_30  \n",
       "1455  8.243607  8.269996  8.275271  8.324122  8.313726  8.312849  8.348763  \n",
       "1456  8.214746  8.243607  8.269996  8.275271  8.324122  8.313726  8.312849  \n",
       "1457  8.119277  8.214746  8.243607  8.269996  8.275271  8.324122  8.313726  \n",
       "1458  8.126959  8.119277  8.214746  8.243607  8.269996  8.275271  8.324122  \n",
       "1459  8.151535  8.126959  8.119277  8.214746  8.243607  8.269996  8.275271  \n",
       "1460  8.151839  8.151535  8.126959  8.119277  8.214746  8.243607  8.269996  \n",
       "1461  8.121323  8.151839  8.151535  8.126959  8.119277  8.214746  8.243607  \n",
       "1462  8.130489  8.121323  8.151839  8.151535  8.126959  8.119277  8.214746  \n",
       "1463  8.119857  8.130489  8.121323  8.151839  8.151535  8.126959  8.119277  \n",
       "1464  8.081523  8.119857  8.130489  8.121323  8.151839  8.151535  8.126959  \n",
       "\n",
       "[10 rows x 31 columns]"
      ]
     },
     "execution_count": 239,
     "metadata": {},
     "output_type": "execute_result"
    }
   ],
   "source": [
    "df2.tail(10)"
   ]
  },
  {
   "cell_type": "code",
   "execution_count": 254,
   "metadata": {},
   "outputs": [],
   "source": [
    "X=df2.iloc[:, 1:].values\n",
    "y=df2.Close_log.values"
   ]
  },
  {
   "cell_type": "code",
   "execution_count": 255,
   "metadata": {},
   "outputs": [],
   "source": [
    "X_train, X_test= X[:-50, : ], X[-50:, : ]\n",
    "y_train,y_test=y[:-50], y[-50: ]"
   ]
  },
  {
   "cell_type": "code",
   "execution_count": 242,
   "metadata": {},
   "outputs": [],
   "source": [
    "# from sklearn.preprocessing import MinMaxScaler\n",
    "# min_max_scaler = MinMaxScaler() \n",
    "# X_train = min_max_scaler.fit_transform(pd.DataFrame(X_train))"
   ]
  },
  {
   "cell_type": "code",
   "execution_count": 243,
   "metadata": {},
   "outputs": [],
   "source": [
    "# X_test= min_max_scaler.transform(pd.DataFrame(X_test))"
   ]
  },
  {
   "cell_type": "code",
   "execution_count": 256,
   "metadata": {},
   "outputs": [
    {
     "data": {
      "text/plain": [
       "(1415, 30)"
      ]
     },
     "execution_count": 256,
     "metadata": {},
     "output_type": "execute_result"
    }
   ],
   "source": [
    "X_train.shape"
   ]
  },
  {
   "cell_type": "code",
   "execution_count": 257,
   "metadata": {},
   "outputs": [],
   "source": [
    "X_train= X_train.reshape((1415, 30, 1))\n",
    "X_test= X_test.reshape ((50, 30, 1 ))"
   ]
  },
  {
   "cell_type": "code",
   "execution_count": 258,
   "metadata": {},
   "outputs": [
    {
     "name": "stdout",
     "output_type": "stream",
     "text": [
      "_________________________________________________________________\n",
      "Layer (type)                 Output Shape              Param #   \n",
      "=================================================================\n",
      "lstm_47 (LSTM)               (None, 30, 512)           1052672   \n",
      "_________________________________________________________________\n",
      "dropout_37 (Dropout)         (None, 30, 512)           0         \n",
      "_________________________________________________________________\n",
      "lstm_48 (LSTM)               (None, 30, 512)           2099200   \n",
      "_________________________________________________________________\n",
      "dropout_38 (Dropout)         (None, 30, 512)           0         \n",
      "_________________________________________________________________\n",
      "lstm_49 (LSTM)               (None, 512)               2099200   \n",
      "_________________________________________________________________\n",
      "dropout_39 (Dropout)         (None, 512)               0         \n",
      "_________________________________________________________________\n",
      "dense_22 (Dense)             (None, 1)                 513       \n",
      "_________________________________________________________________\n",
      "activation_10 (Activation)   (None, 1)                 0         \n",
      "=================================================================\n",
      "Total params: 5,251,585\n",
      "Trainable params: 5,251,585\n",
      "Non-trainable params: 0\n",
      "_________________________________________________________________\n"
     ]
    }
   ],
   "source": [
    "model = Sequential()\n",
    "model.add(LSTM(512, return_sequences=True, input_shape=(30, 1), activation='linear'))\n",
    "model.add(Dropout(0.2))\n",
    "model.add(LSTM(512, return_sequences=True, activation='linear'))\n",
    "model.add(Dropout(0.2))\n",
    "model.add(LSTM(512, activation='linear'))\n",
    "model.add(Dropout(0.2))\n",
    "model.add(Dense(1))\n",
    "model.add(Activation('linear'))\n",
    "model.compile(loss='mean_squared_error', optimizer='adam', metrics=['mae'])\n",
    "model.summary()"
   ]
  },
  {
   "cell_type": "code",
   "execution_count": 259,
   "metadata": {},
   "outputs": [
    {
     "name": "stdout",
     "output_type": "stream",
     "text": [
      "Train on 1415 samples, validate on 50 samples\n",
      "Epoch 1/10\n",
      "1415/1415 [==============================] - 50s 35ms/step - loss: 206.5364 - mean_absolute_error: 7.8207 - val_loss: 44.8344 - val_mean_absolute_error: 6.6950\n",
      "Epoch 2/10\n",
      "1415/1415 [==============================] - 44s 31ms/step - loss: 18.6739 - mean_absolute_error: 3.8068 - val_loss: 0.0457 - val_mean_absolute_error: 0.1960\n",
      "Epoch 3/10\n",
      "1415/1415 [==============================] - 44s 31ms/step - loss: 0.9456 - mean_absolute_error: 0.6495 - val_loss: 0.0368 - val_mean_absolute_error: 0.1820\n",
      "Epoch 4/10\n",
      "1415/1415 [==============================] - 43s 30ms/step - loss: 0.6918 - mean_absolute_error: 0.5096 - val_loss: 0.1572 - val_mean_absolute_error: 0.3436\n",
      "Epoch 5/10\n",
      "1415/1415 [==============================] - 57s 40ms/step - loss: 0.6056 - mean_absolute_error: 0.4538 - val_loss: 0.1130 - val_mean_absolute_error: 0.2739\n",
      "Epoch 6/10\n",
      "1415/1415 [==============================] - 48s 34ms/step - loss: 0.5597 - mean_absolute_error: 0.4224 - val_loss: 0.1283 - val_mean_absolute_error: 0.2987\n",
      "Epoch 7/10\n",
      "1415/1415 [==============================] - 49s 35ms/step - loss: 0.5457 - mean_absolute_error: 0.4173 - val_loss: 0.1293 - val_mean_absolute_error: 0.3050\n",
      "Epoch 8/10\n",
      "1415/1415 [==============================] - 39s 28ms/step - loss: 0.5286 - mean_absolute_error: 0.4047 - val_loss: 0.0823 - val_mean_absolute_error: 0.2307\n",
      "Epoch 9/10\n",
      "1415/1415 [==============================] - 42s 30ms/step - loss: 0.5269 - mean_absolute_error: 0.4070 - val_loss: 0.0923 - val_mean_absolute_error: 0.2459\n",
      "Epoch 10/10\n",
      "1415/1415 [==============================] - 39s 27ms/step - loss: 0.4977 - mean_absolute_error: 0.3842 - val_loss: 0.0807 - val_mean_absolute_error: 0.2290\n"
     ]
    },
    {
     "data": {
      "image/png": "[encoded data removed]",
      "text/plain": [
       "<matplotlib.figure.Figure at 0x1c1b90c1d0>"
      ]
     },
     "metadata": {
      "needs_background": "light"
     },
     "output_type": "display_data"
    }
   ],
   "source": [
    "history = model.fit(X_train, y_train,\n",
    "          batch_size=64, epochs=10,\n",
    "          validation_data=(X_test, y_test))\n",
    "# plot history\n",
    "plt.plot(history.history['loss'], label='train')\n",
    "plt.plot(history.history['val_loss'], label='test')\n",
    "plt.legend()\n",
    "plt.show()"
   ]
  },
  {
   "cell_type": "code",
   "execution_count": 261,
   "metadata": {},
   "outputs": [],
   "source": [
    "y_pred= model.predict(X_test)"
   ]
  },
  {
   "cell_type": "code",
   "execution_count": 262,
   "metadata": {},
   "outputs": [
    {
     "data": {
      "text/plain": [
       "(1415,)"
      ]
     },
     "execution_count": 262,
     "metadata": {},
     "output_type": "execute_result"
    }
   ],
   "source": [
    "df.date[:-50].shape"
   ]
  },
  {
   "cell_type": "code",
   "execution_count": 274,
   "metadata": {},
   "outputs": [
    {
     "data": {
      "text/plain": [
       "[<matplotlib.lines.Line2D at 0x1c574c0110>]"
      ]
     },
     "execution_count": 274,
     "metadata": {},
     "output_type": "execute_result"
    },
    {
     "data": {
      "image/png": "[encoded data removed]",
      "text/plain": [
       "<matplotlib.figure.Figure at 0x1c572dc2d0>"
      ]
     },
     "metadata": {
      "needs_background": "light"
     },
     "output_type": "display_data"
    }
   ],
   "source": [
    "#plot \n",
    "plt.plot(df.date[-50:], y_pred, color='red')\n",
    "#plt.plot(df.date[-50:], y_test, color='orange')\n",
    "plt.plot(df.date[-100:], y[-100:], color='green')"
   ]
  },
  {
   "cell_type": "code",
   "execution_count": null,
   "metadata": {},
   "outputs": [],
   "source": [
    "## kinda following the y_test"
   ]
  },
  {
   "cell_type": "code",
   "execution_count": null,
   "metadata": {},
   "outputs": [],
   "source": [
    "### We can add not just previous closing but volumn/other metrics as well in the features "
   ]
  },
  {
   "cell_type": "code",
   "execution_count": 264,
   "metadata": {},
   "outputs": [
    {
     "data": {
      "text/plain": [
       "1322.7371499226174"
      ]
     },
     "execution_count": 264,
     "metadata": {},
     "output_type": "execute_result"
    }
   ],
   "source": [
    "rmse = np.sqrt(mean_squared_error(np.exp(y_test), np.exp(y_pred)))  #inverse transform \n",
    "rmse"
   ]
  },
  {
   "cell_type": "markdown",
   "metadata": {},
   "source": [
    "## I would also try facebooks-prophet \n",
    "\n",
    "#### https://medium.com/@sunnyday.james/bitcoin-predictive-price-modeling-with-facebooks-prophet-b66efd0169a0"
   ]
  },
  {
   "cell_type": "code",
   "execution_count": null,
   "metadata": {},
   "outputs": [],
   "source": []
  }
 ],
 "metadata": {
  "kernelspec": {
   "display_name": "Python 3",
   "language": "python",
   "name": "python3"
  },
  "language_info": {
   "codemirror_mode": {
    "name": "ipython",
    "version": 3
   },
   "file_extension": ".py",
   "mimetype": "text/x-python",
   "name": "python",
   "nbconvert_exporter": "python",
   "pygments_lexer": "ipython3",
   "version": "3.7.2"
  }
 },
 "nbformat": 4,
 "nbformat_minor": 2
}
